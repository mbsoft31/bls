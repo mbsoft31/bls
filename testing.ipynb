{
 "metadata": {
  "language_info": {
   "codemirror_mode": {
    "name": "ipython",
    "version": 3
   },
   "file_extension": ".py",
   "mimetype": "text/x-python",
   "name": "python",
   "nbconvert_exporter": "python",
   "pygments_lexer": "ipython3",
   "version": "3.8.5-final"
  },
  "orig_nbformat": 2,
  "kernelspec": {
   "name": "python3",
   "display_name": "Python 3.8.5 64-bit",
   "metadata": {
    "interpreter": {
     "hash": "31f2aee4e71d21fbe5cf8b01ff0e069b9275f58929596ceb00d14d90e3e16cd6"
    }
   }
  }
 },
 "nbformat": 4,
 "nbformat_minor": 2,
 "cells": [
  {
   "cell_type": "code",
   "execution_count": 30,
   "metadata": {
    "tags": []
   },
   "outputs": [
    {
     "output_type": "execute_result",
     "data": {
      "text/plain": [
       "'HFbTdxfk5QBF8iSgdEQx1VQlMxDlUAWU0gNGp8DFV4A2MqGGkHLx0BGXRdXmxYYQ5fKUQUBBgZCUQCOlR1C3IIYihtJRcFZykyPDI-DAFsTR9pZgQmDzZRRCVAWR9eWh9DTWtDRRkjFBZ4amBJY29eeztbaRBsYQxDMj9DK14gE0gib0cCHiJSaEV1bDZeTytdXBtkByp8aClQHhVoVHsWGWM8cw'"
      ]
     },
     "metadata": {},
     "execution_count": 30
    }
   ],
   "source": [
    "from bls import *\n",
    "\n",
    "getCaptcha(5)"
   ]
  },
  {
   "cell_type": "code",
   "execution_count": 31,
   "metadata": {},
   "outputs": [],
   "source": [
    "from urllib.parse import quote\n",
    "def prepareData(captcha, type = 'Individual'):\n",
    "    DICT = {\n",
    "        'app_type': type, \n",
    "        'member': '2',          \n",
    "        'centre': '38#38',\n",
    "        'category': 'Normal',\n",
    "        'phone_code': '216',\n",
    "        'phone': '555555555',\n",
    "        'email': 'bekhouche.mouadh@gmail.com',\n",
    "        'verification_code': 'demander le code de vérification',\n",
    "        'otp': '',\n",
    "        'g-recaptcha-response': captcha,\n",
    "        'countryID': '',\n",
    "    }\n",
    "\n",
    "    return DICT\n",
    "DICT = {}\n",
    "DICT = prepareData(\"\")"
   ]
  },
  {
   "cell_type": "code",
   "execution_count": 33,
   "metadata": {},
   "outputs": [],
   "source": [
    "import requests\n",
    "\n",
    "r = requests.post(url=\"https://tunisia.blsspainvisa.com/cookie_ajax.php\", data={'gofor':'setCookie'})\n",
    "\n",
    "#f = open(\"cookies.txt\", \"a\", encoding=\"UTF-8\")\n",
    "#f.write(r.headers)\n",
    "#f.close()\n",
    "AWSALB = r.cookies.get(\"AWSALB\")\n",
    "AWSALBCORS = r.cookies.get(\"AWSALBCORS\")\n"
   ]
  },
  {
   "cell_type": "code",
   "execution_count": 34,
   "metadata": {},
   "outputs": [
    {
     "output_type": "stream",
     "name": "stdout",
     "text": [
      "{'app_type': 'Individual', 'member': '2', 'centre': '38#38', 'category': 'Normal', 'phone_code': '216', 'phone': '555555555', 'email': 'bekhouche.mouadh@gmail.com', 'verification_code': 'demander le code de vérification', 'otp': '', 'g-recaptcha-response': 'HFcnJ4YQtZGxorVUJNXFhcXRY4ERAJRggpKy91ExBxHCYjBywOMFgIBjFUQSlRfktWNgEdG10QFgELJRF8FDcBfW1kOlIMeGw7I3c3E0RlUlpgeUEvEHNYW2BJRlpXRVpKUi5KWlwqC1NxdSVAfCpXZH5SdlVlfklKLXpKNBspDA0rcAILAWdbdwB8c3NXUG5UQ15tGG91d2xZAVBhSz4fBiY1bA', 'countryID': ''}\n"
     ]
    }
   ],
   "source": [
    "URL = \"https://tunisia.blsspainvisa.com/book_appointment.php\"\n",
    "\n",
    "captcha = getCaptcha(5)\n",
    "\n",
    "while captcha == None:\n",
    "    captcha = getCaptcha(5)\n",
    "\n",
    "data = prepareData(captcha, type=\"Family\")\n",
    "\n",
    "print(data)\n",
    "\n",
    "r = requests.post(url=URL, data=data, cookies={'AWSALB': AWSALB, 'AWSALBCORS': AWSALBCORS})\n",
    "\n",
    "f = open(\"index.html\", \"a\", encoding=\"UTF-8\")\n",
    "f.write(r.text)\n",
    "f.close()"
   ]
  },
  {
   "cell_type": "code",
   "execution_count": 12,
   "metadata": {},
   "outputs": [
    {
     "output_type": "error",
     "ename": "KeyError",
     "evalue": "'name=0, domain=None, path=None'",
     "traceback": [
      "\u001b[0;31m---------------------------------------------------------------------------\u001b[0m",
      "\u001b[0;31mKeyError\u001b[0m                                  Traceback (most recent call last)",
      "\u001b[0;32m/tmp/ipykernel_111137/623628652.py\u001b[0m in \u001b[0;36m<module>\u001b[0;34m\u001b[0m\n\u001b[1;32m      4\u001b[0m \u001b[0;31m#f.write(r.headers)\u001b[0m\u001b[0;34m\u001b[0m\u001b[0;34m\u001b[0m\u001b[0;34m\u001b[0m\u001b[0m\n\u001b[1;32m      5\u001b[0m \u001b[0;31m#f.close()\u001b[0m\u001b[0;34m\u001b[0m\u001b[0;34m\u001b[0m\u001b[0;34m\u001b[0m\u001b[0m\n\u001b[0;32m----> 6\u001b[0;31m \u001b[0mr\u001b[0m\u001b[0;34m.\u001b[0m\u001b[0mcookies\u001b[0m\u001b[0;34m[\u001b[0m\u001b[0;36m0\u001b[0m\u001b[0;34m]\u001b[0m\u001b[0;34m\u001b[0m\u001b[0;34m\u001b[0m\u001b[0m\n\u001b[0m",
      "\u001b[0;32m/usr/lib/python3/dist-packages/requests/cookies.py\u001b[0m in \u001b[0;36m__getitem__\u001b[0;34m(self, name)\u001b[0m\n\u001b[1;32m    326\u001b[0m         \u001b[0;34m.\u001b[0m\u001b[0;34m.\u001b[0m \u001b[0mwarning\u001b[0m\u001b[0;34m:\u001b[0m\u001b[0;34m:\u001b[0m \u001b[0moperation\u001b[0m \u001b[0;32mis\u001b[0m \u001b[0mO\u001b[0m\u001b[0;34m(\u001b[0m\u001b[0mn\u001b[0m\u001b[0;34m)\u001b[0m\u001b[0;34m,\u001b[0m \u001b[0;32mnot\u001b[0m \u001b[0mO\u001b[0m\u001b[0;34m(\u001b[0m\u001b[0;36m1\u001b[0m\u001b[0;34m)\u001b[0m\u001b[0;34m.\u001b[0m\u001b[0;34m\u001b[0m\u001b[0;34m\u001b[0m\u001b[0m\n\u001b[1;32m    327\u001b[0m         \"\"\"\n\u001b[0;32m--> 328\u001b[0;31m         \u001b[0;32mreturn\u001b[0m \u001b[0mself\u001b[0m\u001b[0;34m.\u001b[0m\u001b[0m_find_no_duplicates\u001b[0m\u001b[0;34m(\u001b[0m\u001b[0mname\u001b[0m\u001b[0;34m)\u001b[0m\u001b[0;34m\u001b[0m\u001b[0;34m\u001b[0m\u001b[0m\n\u001b[0m\u001b[1;32m    329\u001b[0m \u001b[0;34m\u001b[0m\u001b[0m\n\u001b[1;32m    330\u001b[0m     \u001b[0;32mdef\u001b[0m \u001b[0m__setitem__\u001b[0m\u001b[0;34m(\u001b[0m\u001b[0mself\u001b[0m\u001b[0;34m,\u001b[0m \u001b[0mname\u001b[0m\u001b[0;34m,\u001b[0m \u001b[0mvalue\u001b[0m\u001b[0;34m)\u001b[0m\u001b[0;34m:\u001b[0m\u001b[0;34m\u001b[0m\u001b[0;34m\u001b[0m\u001b[0m\n",
      "\u001b[0;32m/usr/lib/python3/dist-packages/requests/cookies.py\u001b[0m in \u001b[0;36m_find_no_duplicates\u001b[0;34m(self, name, domain, path)\u001b[0m\n\u001b[1;32m    397\u001b[0m         \u001b[0;32mif\u001b[0m \u001b[0mtoReturn\u001b[0m\u001b[0;34m:\u001b[0m\u001b[0;34m\u001b[0m\u001b[0;34m\u001b[0m\u001b[0m\n\u001b[1;32m    398\u001b[0m             \u001b[0;32mreturn\u001b[0m \u001b[0mtoReturn\u001b[0m\u001b[0;34m\u001b[0m\u001b[0;34m\u001b[0m\u001b[0m\n\u001b[0;32m--> 399\u001b[0;31m         \u001b[0;32mraise\u001b[0m \u001b[0mKeyError\u001b[0m\u001b[0;34m(\u001b[0m\u001b[0;34m'name=%r, domain=%r, path=%r'\u001b[0m \u001b[0;34m%\u001b[0m \u001b[0;34m(\u001b[0m\u001b[0mname\u001b[0m\u001b[0;34m,\u001b[0m \u001b[0mdomain\u001b[0m\u001b[0;34m,\u001b[0m \u001b[0mpath\u001b[0m\u001b[0;34m)\u001b[0m\u001b[0;34m)\u001b[0m\u001b[0;34m\u001b[0m\u001b[0;34m\u001b[0m\u001b[0m\n\u001b[0m\u001b[1;32m    400\u001b[0m \u001b[0;34m\u001b[0m\u001b[0m\n\u001b[1;32m    401\u001b[0m     \u001b[0;32mdef\u001b[0m \u001b[0m__getstate__\u001b[0m\u001b[0;34m(\u001b[0m\u001b[0mself\u001b[0m\u001b[0;34m)\u001b[0m\u001b[0;34m:\u001b[0m\u001b[0;34m\u001b[0m\u001b[0;34m\u001b[0m\u001b[0m\n",
      "\u001b[0;31mKeyError\u001b[0m: 'name=0, domain=None, path=None'"
     ]
    }
   ],
   "source": [
    "\n",
    "    \n",
    "r = requests.post(url=\"https://tunisia.blsspainvisa.com/cookie_ajax.php\", data={'gofor':'setCookie'})\n",
    "\n",
    "#f = open(\"cookies.txt\", \"a\", encoding=\"UTF-8\")\n",
    "#f.write(r.headers)\n",
    "#f.close()\n",
    "AWSALB = r.cookies.get(\"AWSALB\")\n",
    "AWSALBCORS = r.cookies.get(\"AWSALBCORS\")\n",
    "\n"
   ]
  }
 ]
}